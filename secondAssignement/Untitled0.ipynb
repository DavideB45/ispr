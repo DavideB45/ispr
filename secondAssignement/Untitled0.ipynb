{
  "cells": [
    {
      "cell_type": "markdown",
      "metadata": {
        "id": "FcffmkoR21nl"
      },
      "source": [
        "#Distributions#\n",
        "since a Bayesisan network is based on causality and probability the first thing to define are some useful classes to generate a sample from a **distribution**"
      ]
    },
    {
      "cell_type": "code",
      "execution_count": 45,
      "metadata": {
        "id": "S4DJaDEB2dy1"
      },
      "outputs": [],
      "source": [
        "import random\n",
        "class Distribution:\n",
        "    def sample(self) -> int:\n",
        "        ..."
      ]
    },
    {
      "cell_type": "markdown",
      "metadata": {
        "id": "MsdyuyV83VxU"
      },
      "source": [
        "the first thing we define is a class that can give as output just 1 or 0 with the probability 'p' given during initialization"
      ]
    },
    {
      "cell_type": "code",
      "execution_count": 46,
      "metadata": {
        "colab": {
          "base_uri": "https://localhost:8080/"
        },
        "id": "3RGcq6TP3Va6",
        "outputId": "f18f6d26-0a42-4c28-9d13-e27d6696beae"
      },
      "outputs": [
        {
          "name": "stdout",
          "output_type": "stream",
          "text": [
            "tail\n",
            "p=0.8\n"
          ]
        }
      ],
      "source": [
        "class Bernoulli(Distribution):\n",
        "    # p = probability of true\n",
        "    def __init__(self, p:float):\n",
        "        self.p = p\n",
        "    def __str__(self):\n",
        "        return f'p={self.p}'\n",
        "\n",
        "    def sample(self) -> int:\n",
        "        return 1 if random.random() < self.p else 0\n",
        "# for example a coin whose probability of head is 80% will be defined as\n",
        "unfairCoin = Bernoulli(p=0.8)\n",
        "head = unfairCoin.sample()\n",
        "print(f'{\"head\" if head else \"tail\"}')\n",
        "print(unfairCoin)"
      ]
    },
    {
      "cell_type": "markdown",
      "metadata": {
        "id": "-1rnELXN3VDx"
      },
      "source": [
        "now we define a multinomial that allows n different outcome, each one with it's own probability.\n",
        "The result of sample is a nuber from 0 to n-1 representing the index of the outcom as it was given during initializaiton"
      ]
    },
    {
      "cell_type": "code",
      "execution_count": 47,
      "metadata": {
        "colab": {
          "base_uri": "https://localhost:8080/"
        },
        "id": "EASHwvR63-9D",
        "outputId": "6e5f2879-d2d1-45f2-c055-fe693deb3ac7"
      },
      "outputs": [
        {
          "name": "stdout",
          "output_type": "stream",
          "text": [
            "dice result: 12\n"
          ]
        }
      ],
      "source": [
        "\n",
        "class Multinomial(Distribution):\n",
        "    def __init__(self, pList:'list[float]'):\n",
        "        self.pList = pList\n",
        "        if sum(pList) < 0.9999 or sum(pList) > 1.000001: #was giving problem with the list [0.7, 0.2, 0.1]\n",
        "            raise(Exception(f'The sum of the probabilities should be 1 but got {sum(pList)}'))\n",
        "    def __str__(self):\n",
        "        return f'pList={self.pList}'\n",
        "\n",
        "    def sample(self) -> int:\n",
        "        r = random.random()\n",
        "        for i, p in enumerate(self.pList):\n",
        "            if r < p:\n",
        "                return i\n",
        "            r -= p\n",
        "        return len(self.pList)-1\n",
        "\n",
        "class UniformMultinomial(Multinomial):\n",
        "    def __init__(self, n:int):\n",
        "        self.n = n\n",
        "        self.pList = [1/n]*n\n",
        "\n",
        "    def __str__(self):\n",
        "        return f'n={self.n}'\n",
        "\n",
        "    def sample(self) -> int:\n",
        "        return random.randint(0, self.n-1)\n",
        "\n",
        "# representing probability of a dice\n",
        "dice = UniformMultinomial(n=20)\n",
        "num = dice.sample() + 1\n",
        "print(f'dice result:', num if num != 20 else 'crit')"
      ]
    },
    {
      "cell_type": "markdown",
      "metadata": {
        "id": "Y9-BV_PR7G9X"
      },
      "source": [
        "#Conditional probability table#\n",
        "now that the basic probability are defined we can put them together to define different probability of an event given different evidence"
      ]
    },
    {
      "cell_type": "code",
      "execution_count": 48,
      "metadata": {
        "id": "MPy8xNNX8O4m"
      },
      "outputs": [],
      "source": [
        "class CPT:\n",
        "    '''\n",
        "    A Fancy Hash table\n",
        "    '''\n",
        "    # should allow quick access to the probability of a certain value given the values of the parents\n",
        "    # take a list of touple: [(id, max1), (id, max2), ...]\n",
        "    def __init__(self, conditioners:\"list['tuple[str, int]']\" = []):\n",
        "        self.conditionersIdOrder = [name for name, _ in conditioners]\n",
        "        self.table = {}\n",
        "        self.keys = ['']\n",
        "        for name, max in conditioners:\n",
        "            tempKeys = []\n",
        "            for i in range(max):\n",
        "                tempKeys += [f'{key}{name}{i}' for key in self.keys]\n",
        "            self.keys = tempKeys\n",
        "\n",
        "    def _getKeyFromQuery(self, valuedParents:'dict[str:int]', safeCreation:bool=False)->str:\n",
        "        '''Get the key from the query'''\n",
        "        key = ''\n",
        "        for conditioner in self.conditionersIdOrder:\n",
        "            try:\n",
        "                key += f'{conditioner}{valuedParents[conditioner]}'\n",
        "            except KeyError:\n",
        "                raise('Not all parents ID are present')\n",
        "        if safeCreation and (key not in self.keys):\n",
        "            raise('Key not in the table')\n",
        "        return key\n",
        "\n",
        "    def checkComplete(self)->bool:\n",
        "        '''Check if the table is complete (i.e. all possible values are defined)'''\n",
        "        return len(self.keys) == len(self.table)\n",
        "\n",
        "    def setDistribution(self, valuedParents:'dict[str:int]', distribution:Distribution)->None:\n",
        "        '''Set the distribution for a certain set of parents\n",
        "\n",
        "        valuedParents: dict (id, value) for the parents that are observed\n",
        "        distribution: the distribution to use when the parents are observed\n",
        "\n",
        "        raises 'Not all parents are present' if not all parents are present\n",
        "        raises 'Key not in the table' if the key is not in the table\n",
        "        '''\n",
        "        key = self._getKeyFromQuery(valuedParents)\n",
        "        self.table[key] = distribution\n",
        "\n",
        "    def getDistribution(self, valuedParents:'dict[str:int]')->Distribution:\n",
        "        '''Get the distribution for a certain set of parents\n",
        "\n",
        "        valuedParents: dictionary (id, value) for the parents that are observed\n",
        "\n",
        "        raises 'Table is not complete' if the table is not complete\n",
        "        raises 'Not all parents are present' if not all parents are present\n",
        "        raises 'Key not in the table' if the key is not in the table\n",
        "        '''\n",
        "        if not self.checkComplete():\n",
        "            raise('Table is not complete')\n",
        "        key = self._getKeyFromQuery(valuedParents)\n",
        "        return self.table[key]"
      ]
    },
    {
      "cell_type": "markdown",
      "metadata": {
        "id": "HecoiQmI8Mq7"
      },
      "source": [
        "##An example of usage##\n",
        "this is a lot of code, let's se an example of how this thing should be used"
      ]
    },
    {
      "cell_type": "code",
      "execution_count": 49,
      "metadata": {
        "colab": {
          "base_uri": "https://localhost:8080/"
        },
        "id": "c12y5IiH8yjm",
        "outputId": "e421f7b0-625a-4e5a-9ad5-52e4c8f8d10e"
      },
      "outputs": [
        {
          "name": "stdout",
          "output_type": "stream",
          "text": [
            "True\n"
          ]
        }
      ],
      "source": [
        "# cloud can assume 3 different values\n",
        "# 0 means no clouds\n",
        "# 1 means a few clouds\n",
        "# 2 very cloudy\n",
        "rain = CPT([('Cloud', 3)])\n",
        "rain.setDistribution({'Cloud': 0}, Bernoulli(0))\n",
        "rain.setDistribution({'Cloud': 1}, Bernoulli(0.4))\n",
        "rain.setDistribution({'Cloud': 2}, Bernoulli(0.9))\n",
        "print(rain.checkComplete())"
      ]
    },
    {
      "cell_type": "markdown",
      "metadata": {
        "id": "RDJ0w6eqBAT7"
      },
      "source": [
        "now that we defined a CPT that represent the probability of raining given an amount of cloud we can use it to get the probability of rain given different observation of 'Cloud'"
      ]
    },
    {
      "cell_type": "code",
      "execution_count": 50,
      "metadata": {
        "colab": {
          "base_uri": "https://localhost:8080/"
        },
        "id": "PsrFdZ7fBhPT",
        "outputId": "4b3c1b2f-52a5-4d3d-b37c-c5ef5fc72f3c"
      },
      "outputs": [
        {
          "name": "stdout",
          "output_type": "stream",
          "text": [
            "Probability of rain given there are some clouds is p=0.4\n"
          ]
        }
      ],
      "source": [
        "pRain = rain.getDistribution({'Cloud': 1})\n",
        "print('Probability of rain given there are some clouds is',pRain)"
      ]
    },
    {
      "cell_type": "markdown",
      "metadata": {
        "id": "lwEYsGbSCBIl"
      },
      "source": [
        "#The basic Node#\n",
        "we have a good enough abstraction to define the class node that is the basic component of a Bayesian network"
      ]
    },
    {
      "cell_type": "code",
      "execution_count": 51,
      "metadata": {
        "id": "J6Y_oSc7Ciqu"
      },
      "outputs": [],
      "source": [
        "class Node:\n",
        "    def __init__(self, name:str, id:str, parents:list, cpt:CPT):\n",
        "        self.name = name\n",
        "        if id is None or id == '':\n",
        "            raise('id cannot be None or empty')\n",
        "        self.id = id\n",
        "        self.parents = parents\n",
        "        self.cpt = cpt\n",
        "        self.children = []\n",
        "        for parent in parents:\n",
        "            parent.addChild(self)\n",
        "        #current value of the node\n",
        "        self.value = None\n",
        "        #current value of the parents\n",
        "        self.observed = {}\n",
        "\n",
        "    def __str__(self):\n",
        "        return f'{self.name} -> ({self.parents})'\n",
        "\n",
        "    def addChild(self, child):\n",
        "        self.children.append(child)\n",
        "\n",
        "    def _sample(self) -> int:\n",
        "        self.value = self.cpt.getDistribution(self.observed).sample()\n",
        "        print(f'{self.name} -> {self.value}')\n",
        "        for child in self.children:\n",
        "            child.update(self.id, self.value)\n",
        "\n",
        "    def update(self, parent:str, value:int):\n",
        "        self.observed[parent] = value\n",
        "        if len(self.parents) == len(self.observed):\n",
        "            # if something does not work maybe\n",
        "            # make a full check of the parents\n",
        "            self._sample()\n",
        "\n",
        "    def reset(self):\n",
        "        self.value = None\n",
        "        self.observed = {}"
      ]
    },
    {
      "cell_type": "markdown",
      "metadata": {
        "id": "v4nOHMkkQciE"
      },
      "source": [
        "here we have some functions to analize:\n",
        "\n",
        "\n",
        "1.   `__init__` is the funciton to initialize the node and takes as argument `name` that is useful if we want to keep a description of the node; the `id` is more important because it is used to generate the key of the CPT table, `parents` is a list of nodes that condition the probability of the node, anf the final parameter `cpt`. During the creation if the list of parents is not empty to every parent will be assigned the new node as a children.\n",
        "2.   `addChild` is the function that assign a chidren to its parent, this function is called automatically so use it explicitly is not recomended since can cause the creation of cicle in the network\n",
        "3.   `sample` is a fuinction that is automatically called whenever all parents are observed; it generate a state for the node and inform the children about it\n",
        "4.   `update` is the function that a parent node should call to inform its children of its current sampled state\n",
        "5.   `reset` just reset a node state\n",
        "\n"
      ]
    },
    {
      "cell_type": "markdown",
      "metadata": {
        "id": "03DjIB21aHgi"
      },
      "source": [
        "let's se how this is used to create a node and sample a probability (it's not much mode than a wrapper for a CPT)"
      ]
    },
    {
      "cell_type": "code",
      "execution_count": 64,
      "metadata": {
        "id": "9fTClCUKacfc"
      },
      "outputs": [
        {
          "name": "stdout",
          "output_type": "stream",
          "text": [
            "the value of rain is undifined since we haven't sampled it yet\n",
            "None\n",
            "clud amount (weather) -> 1\n",
            "Rain -> 1\n",
            "After sampling the value of rain is:\n",
            "1\n"
          ]
        }
      ],
      "source": [
        "# fist let's define the probability of the weather to be cloudy\n",
        "cloudyCPT = CPT()\n",
        "cloudyCPT.setDistribution(valuedParents={}, distribution=Multinomial([0.7,0.2,0.1]))\n",
        "cloudyNode = Node('clud amount (weather)', id='Cloud', parents=[], cpt=cloudyCPT)\n",
        "\n",
        "# now we can create another node, dependent by this one i.e. a child in the graph\n",
        "rainNode = Node('Rain', id='R', parents=[cloudyNode], cpt=rain)\n",
        "\n",
        "print('the value of rain is undifined since we haven\\'t sampled it yet')\n",
        "print(rainNode.value)\n",
        "# now we can sample the nodes \n",
        "#(this will sample the whole graph recursively so only the orphan nodes should be sampled)\n",
        "cloudyNode._sample()\n",
        "\n",
        "print('After sampling the value of rain is:')\n",
        "print(rainNode.value)"
      ]
    },
    {
      "cell_type": "code",
      "execution_count": null,
      "metadata": {},
      "outputs": [],
      "source": []
    }
  ],
  "metadata": {
    "colab": {
      "provenance": []
    },
    "kernelspec": {
      "display_name": "Python 3",
      "name": "python3"
    },
    "language_info": {
      "codemirror_mode": {
        "name": "ipython",
        "version": 3
      },
      "file_extension": ".py",
      "mimetype": "text/x-python",
      "name": "python",
      "nbconvert_exporter": "python",
      "pygments_lexer": "ipython3",
      "version": "3.8.18"
    }
  },
  "nbformat": 4,
  "nbformat_minor": 0
}
